{
 "cells": [
  {
   "cell_type": "code",
   "execution_count": 45,
   "metadata": {},
   "outputs": [],
   "source": [
    "import requests\n",
    "import json\n",
    "import sklearn\n",
    "import pandas as pd\n",
    "import numpy as np\n",
    "import csv\n",
    "import math\n",
    "from sklearn.ensemble import RandomForestClassifier\n",
    "from sklearn.linear_model import SGDClassifier\n",
    "import tensorflow as tf\n",
    "\n",
    "\n",
    "from config import api_key\n",
    "\n",
    "from pprint import pprint"
   ]
  },
  {
   "cell_type": "markdown",
   "metadata": {},
   "source": [
    "## Setting up URL and pull of League Data"
   ]
  },
  {
   "cell_type": "code",
   "execution_count": 46,
   "metadata": {},
   "outputs": [],
   "source": [
    "# Original example from Collin\n",
    "# League_url = f\"http://api.sportradar.us/ncaamb/trial/v4/en/league/hierarchy.json?+{api_key}\"\n",
    "\n",
    "# added \"api_key=\" to the end of the URLs, changed URLs to be strings\n",
    "# added api_key in the requests.get cells\n",
    "\n",
    "#Team_url = \"http://api.sportradar.us/ncaamb/trial/v4/en/seasons/2018/REG/teams/fae4855b-1b64-4b40-a632-9ed345e1e952/statistics.json?api_key=\" #+{api_key}\n",
    "#Team_url = \"http://api.sportradar.us/ncaamb/trial/v4/en/seasons/2018/REG/teams/statistics.json?api_key=\" #+{api_key}\n",
    "\n",
    "#/ncaamb/trial/v4/en/seasons/2016/reg/teams/2f4d21f8-6d5f-48a5-abca-52a30583871a/statistics.xml?api_key=\n",
    "\n",
    "League_url = \"http://api.sportradar.us/ncaamb/trial/v4/en/league/hierarchy.json?api_key=\"\n",
    "\n",
    "\n",
    "format = \"json\""
   ]
  },
  {
   "cell_type": "code",
   "execution_count": 47,
   "metadata": {},
   "outputs": [],
   "source": [
    "#League_url = f\"http://api.sportradar.us/ncaamb/trial/v4/en/league/hierarchy.json?+{api_key}\"\n",
    "#format = \"json\""
   ]
  },
  {
   "cell_type": "code",
   "execution_count": 48,
   "metadata": {},
   "outputs": [],
   "source": [
    "# Reformatted the requests.get\n",
    "League_response = requests.get(League_url + api_key).json()\n",
    "\n",
    "\n",
    "#League_response\n"
   ]
  },
  {
   "cell_type": "code",
   "execution_count": 49,
   "metadata": {},
   "outputs": [],
   "source": [
    "# Looking at data shape of the League level\n",
    "# print(json.dumps(League_response, indent=4, sort_keys=True))"
   ]
  },
  {
   "cell_type": "code",
   "execution_count": 50,
   "metadata": {},
   "outputs": [],
   "source": [
    "#division level - 7 is the NCAA D1\n",
    "d1 = League_response[\"divisions\"][7] [\"conferences\"]#[0]\n",
    "#d1\n"
   ]
  },
  {
   "cell_type": "code",
   "execution_count": 51,
   "metadata": {
    "scrolled": true
   },
   "outputs": [],
   "source": [
    "#conference level\n",
    "conferences = d1[0][\"teams\"]\n",
    "#conferences\n"
   ]
  },
  {
   "cell_type": "code",
   "execution_count": 52,
   "metadata": {},
   "outputs": [],
   "source": [
    "teams = conferences[0][\"venue\"]\n",
    "#teams"
   ]
  },
  {
   "cell_type": "code",
   "execution_count": 53,
   "metadata": {},
   "outputs": [],
   "source": [
    "#Breakdown of Conferences and teams within conference, along with IDs\n",
    "#included city and state to the output\n",
    "\n",
    "\n",
    "conference_names = []\n",
    "conference_ids = []\n",
    "team_names = []\n",
    "team_ids = []\n",
    "team_market = []\n",
    "team_city = []\n",
    "team_state = []\n",
    "\n",
    "\n",
    "for i in range(0,len(d1)):\n",
    "    conferences = d1[i][\"teams\"]\n",
    "    for j in range(0,len(conferences)):\n",
    "        teams = conferences[j][\"venue\"]\n",
    "        for k in range (0,len(teams)):\n",
    "            #print(d1[i][\"name\"])\n",
    "            #print(d1[i][\"id\"])\n",
    "            #print(conferences[j][\"name\"])\n",
    "            #print(conferences[j][\"id\"])\n",
    "            conference_names.append(d1[i][\"name\"])\n",
    "            conference_ids.append(d1[i][\"id\"])\n",
    "            team_market.append(conferences[j][\"market\"])\n",
    "            team_names.append(conferences[j][\"name\"])\n",
    "            team_ids.append(conferences[j][\"id\"])\n",
    "            team_city.append(conferences[j][\"venue\"][\"city\"])\n",
    "            team_state.append(conferences[j][\"venue\"][\"state\"])\n",
    "      "
   ]
  },
  {
   "cell_type": "code",
   "execution_count": 10,
   "metadata": {},
   "outputs": [],
   "source": [
    "#for j in range(0,len(conferences)):\n",
    "        #teams = conferences[j][\"venue\"]\n",
    "        #for k in range (0,len(teams)):\n",
    "            #team_names.append(conferences[j][\"name\"])\n",
    "            #team_ids.append(conferences[j][\"id\"])\n",
    "            #team_city.append(conferences[j][\"venue\"][\"city\"])\n",
    "            #team_state.append(conferences[j][\"venue\"][\"state\"])"
   ]
  },
  {
   "cell_type": "code",
   "execution_count": 11,
   "metadata": {},
   "outputs": [],
   "source": [
    "#conferences[0][\"venue\"]"
   ]
  },
  {
   "cell_type": "code",
   "execution_count": 12,
   "metadata": {
    "scrolled": false
   },
   "outputs": [],
   "source": [
    "# using zip\n",
    "zippedList = list(zip(team_market,team_names,team_ids,team_city,team_state,conference_names,conference_ids))\n",
    "#zippedList"
   ]
  },
  {
   "cell_type": "code",
   "execution_count": 13,
   "metadata": {},
   "outputs": [],
   "source": [
    "# turning zipped list into a DF\n",
    "#teamdf = pd.DataFrame(zippedList,columns = [team_name,team_id,conference_name,conference_id],index=[])\n",
    "teamdf = pd.DataFrame({\"team_market\":team_market,\n",
    "                      \"team_name\":team_names,\n",
    "                      \"team_id\":team_ids,\n",
    "                       \"team_city\":team_city,\n",
    "                       \"team_state\":team_state,\n",
    "                      \"conference_name\":conference_names,\n",
    "                       \"conference_id\":conference_ids                       \n",
    "                      })\n",
    "\n",
    "#teamdf"
   ]
  },
  {
   "cell_type": "code",
   "execution_count": 14,
   "metadata": {},
   "outputs": [],
   "source": [
    "#teamdf\n",
    "teamdf.to_csv(\"team_conference_with_id_and_loc.csv\", index=False)"
   ]
  },
  {
   "cell_type": "code",
   "execution_count": 15,
   "metadata": {},
   "outputs": [],
   "source": [
    "#trying to set up list of teams... team_ids is already a list, team_ids_df is a datafram\n",
    "#trying to use one of these to loop through a requests.get for teh teams\n",
    "#team_ids_df = pd.DataFrame({\"team_id\":team_ids})\n",
    "#team_ids"
   ]
  },
  {
   "cell_type": "code",
   "execution_count": 16,
   "metadata": {},
   "outputs": [],
   "source": [
    "#team_id\n",
    "\n",
    "#for i in range(0,len(d1)):\n",
    "    #conferences = d1[i][\"teams\"]\n",
    "    #for j in range(0,len(conferences)):\n",
    "        #print(d1[i][\"name\"])\n",
    "        #print(d1[i][\"id\"])\n",
    "        #print(conferences[j][\"name\"])\n",
    "        #print(conferences[j][\"id\"])\n",
    "        #conference_name.append(d1[i][\"name\"])\n",
    "        #conference_id.append(d1[i][\"id\"])\n",
    "        #team_name.append(conferences[j][\"name\"])\n",
    "        #team_id.append(conferences[j][\"id\"])\n",
    "        \n",
    "#for j in range(0,len(conferences)):\n",
    "        #print(d1[i][\"name\"])\n",
    "        #print(d1[i][\"id\"])\n",
    "        #print(conferences[j][\"name\"])\n",
    "        #print(conferences[j][\"id\"])\n",
    "        #conference_name.append(d1[i][\"name\"])\n",
    "        #conference_id.append(d1[i][\"id\"])\n",
    "        #team_name.append(conferences[j][\"name\"])\n",
    "        #team_id.append(conferences[j][\"id\"])"
   ]
  },
  {
   "cell_type": "code",
   "execution_count": 17,
   "metadata": {},
   "outputs": [],
   "source": [
    "#Team_response = requests.get(Team_url + api_key).json()\n",
    "#Team_url_1 = \"http://api.sportradar.us/ncaamb/trial/v4/en/seasons/2018/REG/teams/\"\n",
    "#Team_url_2 = \"/statistics.json?api_key=\"\n",
    "\n",
    "#team_id -- this is taken from our lists\n",
    "\n",
    "#Team_response = requests.get(Team_url_1 + team_id(i) + Team_url_2 + api_key).json()\n"
   ]
  },
  {
   "cell_type": "code",
   "execution_count": 18,
   "metadata": {},
   "outputs": [],
   "source": [
    "#for team_id in team_ids:\n",
    "    #Team_url_1 = \"http://api.sportradar.us/ncaamb/trial/v4/en/seasons/2018/REG/teams/\"\n",
    "    #Team_url_2 = \"/statistics.json?api_key=\"\n",
    "    #Team_response = requests.get(Team_url_1 + team_id + Team_url_2 + api_key).json()\n",
    "\n",
    "#for k in range(0,len(team_id_df)):\n",
    "    #Team_response = requests.get(Team_url_1 + team_id_df(k) + Team_url_2 + api_key).json()\n",
    "\n",
    "\n",
    "    #for i in range(0,len(d1)):\n",
    "            #Team_response = d1[i][\"teams\"]\n",
    "            #for j in range(0,len(Team_response)):\n",
    "                #print(d1[i][\"name\"])\n",
    "                #print(d1[i][\"id\"])\n",
    "                #print(conferences[j][\"name\"])\n",
    "                #print(conferences[j][\"id\"])\n",
    "                #conference_name.append(d1[i][\"name\"])\n",
    "                #conference_id.append(d1[i][\"id\"])\n",
    "                #team_name.append(Team_response[j][\"name\"])\n",
    "                #team_id.append(Team_response[j][\"id\"])\n",
    "        \n",
    "                #teamdf = pd.DataFrame({\"team_name\":name,\n",
    "                                      #\"type\":reg,\n",
    "                                      #\"conference_name\":conference_name,\n",
    "                                      #\"conference_id\":conference_id\n",
    "                                      #})"
   ]
  },
  {
   "cell_type": "code",
   "execution_count": 19,
   "metadata": {},
   "outputs": [],
   "source": [
    "#print(Team_response)"
   ]
  },
  {
   "cell_type": "code",
   "execution_count": 20,
   "metadata": {},
   "outputs": [],
   "source": [
    "#d1 = League_response"
   ]
  },
  {
   "cell_type": "code",
   "execution_count": 21,
   "metadata": {},
   "outputs": [],
   "source": [
    "#0d037a5d-827a-44dd-8b70-57603d671d5d\n",
    "#04d5255d-b2dc-43df-9fa8-d296b0f8ccd7\n",
    "#Team_url = \"http://api.sportradar.us/ncaamb/trial/v4/en/seasons/2018/REG/teams/0d037a5d-827a-44dd-8b70-57603d671d5d/statistics.json?api_key=\"\n",
    "#Team_pretend_response = requests.get(Team_url + api_key).json()\n",
    "#d1 = League_response[\"divisions\"][7] [\"conferences\"]"
   ]
  },
  {
   "cell_type": "code",
   "execution_count": 22,
   "metadata": {},
   "outputs": [],
   "source": [
    "#Team_pretend_response"
   ]
  },
  {
   "cell_type": "code",
   "execution_count": 23,
   "metadata": {},
   "outputs": [],
   "source": [
    "#d1_team_data = Team_pretend_response #[\"divisions\"][7] [\"conferences\"]"
   ]
  },
  {
   "cell_type": "code",
   "execution_count": 89,
   "metadata": {},
   "outputs": [],
   "source": [
    "#defining empty lists here - BEFORE running URL and appends\n",
    "#If we have to manually run 64 teams through, then we don't want to empty our lists each time\n",
    "\n",
    "team_market = []\n",
    "team_names = []\n",
    "team_ids2 = []\n",
    "#Total\n",
    "total_games_played = []\n",
    "total_minutes_played = []\n",
    "total_field_goals_made = []\n",
    "total_field_goals_att = []\n",
    "total_minutes = []\n",
    "total_field_goals_made = []\n",
    "total_field_goals_att = []\n",
    "total_field_goals_pct = []\n",
    "total_two_points_made = []\n",
    "total_two_points_att = []\n",
    "total_two_points_pct = []\n",
    "total_three_points_made = []\n",
    "total_three_points_att = []\n",
    "total_three_points_pct = []\n",
    "total_blocked_att = []\n",
    "total_free_throws_made = []\n",
    "total_free_throws_att = []\n",
    "total_free_throws_pct = []\n",
    "total_offensive_rebounds = []\n",
    "total_defensive_rebounds = []\n",
    "total_rebounds = []\n",
    "total_assists = []\n",
    "total_turnovers = []\n",
    "total_assists_turnover_ratio = []\n",
    "total_steals = []\n",
    "total_blocks = []\n",
    "total_personal_fouls = []\n",
    "total_tech_fouls = []\n",
    "total_points = []\n",
    "total_fast_break_pts = []\n",
    "total_flagrant_fouls = []\n",
    "total_points_off_turnovers = []\n",
    "total_second_chance_pts = []\n",
    "total_ejections = []\n",
    "total_foulouts = []\n",
    "total_points_in_paint = []\n",
    "total_efficiency = []\n",
    "total_true_shooting_att = []\n",
    "total_true_shooting_pct = []\n",
    "#Average\n",
    "average_fast_break_pts = []\n",
    "average_points_off_turnovers = []\n",
    "average_second_chance_pts = []\n",
    "average_minutes = []\n",
    "average_points = []\n",
    "average_off_rebounds = []\n",
    "average_def_rebounds = []\n",
    "average_rebounds = []\n",
    "average_assists = []\n",
    "average_steals = []\n",
    "average_blocks = []\n",
    "average_turnovers = []\n",
    "average_personal_fouls = []\n",
    "average_flagrant_fouls = []\n",
    "average_blocked_att = []\n",
    "average_field_goals_made = []\n",
    "average_field_goals_att = []\n",
    "average_three_points_made = []\n",
    "average_three_points_att = []\n",
    "average_free_throws_made = []\n",
    "average_free_throws_att = []\n",
    "average_two_points_made = []\n",
    "average_two_points_att = []\n",
    "average_points_in_paint = []\n",
    "average_efficiency = []\n",
    "average_true_shooting_att = []"
   ]
  },
  {
   "cell_type": "code",
   "execution_count": 135,
   "metadata": {
    "scrolled": true
   },
   "outputs": [],
   "source": [
    "#2016-2017 Teams - top 4 seed each region\n",
    "#4383eb6a-7fd8-4ff2-94c5-43c933121e88\n",
    "#faeb1160-5d15-4f26-99fc-c441cf21fc7f\n",
    "#db6e1cab-3fa3-4a93-a673-8b2a358ff4bf\n",
    "#912f8837-1d81-4ef9-a576-a21f271d4c64\n",
    "#fae4855b-1b64-4b40-a632-9ed345e1e952\n",
    "#b795ddbc-baab-4499-8803-52e8608520ab\n",
    "#1da70895-f77f-44ef-b216-d63c02e696eb\n",
    "#12d7f888-675b-459f-9099-a38f771d8a95\n",
    "#e9ca48b2-00ba-41c0-a02b-6885a2da1ff1\n",
    "#2267a1f4-68f6-418b-aaf6-2aa0c4b291f1\n",
    "#ec0d6b67-4b16-4b50-92b2-1a651dae6b0f\n",
    "#bdb7d7a4-45f8-4bf3-ab85-15488c451494\n",
    "#2f4d21f8-6d5f-48a5-abca-52a30583871a\n",
    "#9b166a3f-e64b-4825-bb6b-92c6f0418263\n",
    "#d3c8a767-b6fc-45d4-a5f2-18406f2993f1\n",
    "#f770d3a2-221c-49ce-9c7a-680f7417fe9e\n",
    "\n",
    "#2017-2018 Teams - top 4 seed each region\n",
    "#4383eb6a-7fd8-4ff2-94c5-43c933121e88\n",
    "#12d7f888-675b-459f-9099-a38f771d8a95\n",
    "#f8c705b7-87d3-411a-9c8b-5124daab0469\n",
    "#f38b58de-3273-4723-a78b-2f918e9aa2d5\n",
    "#fae4855b-1b64-4b40-a632-9ed345e1e952\n",
    "#faeb1160-5d15-4f26-99fc-c441cf21fc7f\n",
    "#a41d5a05-4c11-4171-a57e-e7a1ea325a6d\n",
    "#0c0608b3-f349-4f5e-9a10-7e6a744dd0d2\n",
    "#56913910-87f7-4ad7-ae3b-5cd9fb218fd9\n",
    "#a17dfc54-415f-49c3-a2e6-d6fa9db18b0a\n",
    "#b827dbdf-230f-4916-9703-3bb9004e26eb\n",
    "#9b166a3f-e64b-4825-bb6b-92c6f0418263\n",
    "#0d8a328f-20ce-410b-bed1-15fc01308aaf\n",
    "#e9ca48b2-00ba-41c0-a02b-6885a2da1ff1\n",
    "#a96ad616-86c4-40c3-9cdd-19833ed363b8\n",
    "#2f4d21f8-6d5f-48a5-abca-52a30583871a\n",
    "\n",
    "Team_url_2 = \"http://api.sportradar.us/ncaamb/trial/v4/en/seasons/2017/REG/teams/2f4d21f8-6d5f-48a5-abca-52a30583871a/statistics.json?api_key=\""
   ]
  },
  {
   "cell_type": "code",
   "execution_count": 136,
   "metadata": {
    "scrolled": true
   },
   "outputs": [],
   "source": [
    "teams_response_2 = requests.get(Team_url_2 + api_key ).json()\n",
    "\n",
    "\n",
    "#teams_response_2"
   ]
  },
  {
   "cell_type": "code",
   "execution_count": 137,
   "metadata": {},
   "outputs": [],
   "source": [
    "team_market.append(teams_response_2[\"market\"])\n",
    "team_names.append(teams_response_2[\"name\"])\n",
    "team_ids2.append(teams_response_2[\"id\"])\n",
    "total_games_played.append(teams_response_2[\"own_record\"][\"total\"][\"games_played\"])\n",
    "total_minutes_played.append(teams_response_2[\"own_record\"][\"total\"][\"minutes\"])\n",
    "total_field_goals_made.append(teams_response_2[\"own_record\"][\"total\"][\"field_goals_made\"])\n",
    "total_field_goals_att.append(teams_response_2[\"own_record\"][\"total\"][\"field_goals_att\"])\n",
    "total_field_goals_pct.append(teams_response_2[\"own_record\"][\"total\"][\"two_points_att\"])\n",
    "total_two_points_made.append(teams_response_2[\"own_record\"][\"total\"][\"two_points_made\"])\n",
    "total_two_points_att.append(teams_response_2[\"own_record\"][\"total\"][\"minutes\"])\n",
    "total_two_points_pct.append(teams_response_2[\"own_record\"][\"total\"][\"two_points_pct\"])\n",
    "total_three_points_made.append(teams_response_2[\"own_record\"][\"total\"][\"three_points_made\"])\n",
    "total_three_points_att.append(teams_response_2[\"own_record\"][\"total\"][\"three_points_att\"])\n",
    "total_three_points_pct.append(teams_response_2[\"own_record\"][\"total\"][\"three_points_pct\"])\n",
    "total_blocked_att.append(teams_response_2[\"own_record\"][\"total\"][\"blocked_att\"])\n",
    "total_free_throws_made.append(teams_response_2[\"own_record\"][\"total\"][\"free_throws_made\"])\n",
    "total_free_throws_att.append(teams_response_2[\"own_record\"][\"total\"][\"free_throws_att\"])\n",
    "total_free_throws_pct.append(teams_response_2[\"own_record\"][\"total\"][\"free_throws_pct\"])\n",
    "total_offensive_rebounds.append(teams_response_2[\"own_record\"][\"total\"][\"offensive_rebounds\"])\n",
    "total_defensive_rebounds.append(teams_response_2[\"own_record\"][\"total\"][\"defensive_rebounds\"])\n",
    "total_rebounds.append(teams_response_2[\"own_record\"][\"total\"][\"rebounds\"])\n",
    "total_assists.append(teams_response_2[\"own_record\"][\"total\"][\"assists\"])\n",
    "total_turnovers.append(teams_response_2[\"own_record\"][\"total\"][\"turnovers\"])\n",
    "total_assists_turnover_ratio.append(teams_response_2[\"own_record\"][\"total\"][\"assists_turnover_ratio\"])\n",
    "total_steals.append(teams_response_2[\"own_record\"][\"total\"][\"steals\"])\n",
    "total_blocks.append(teams_response_2[\"own_record\"][\"total\"][\"blocks\"])\n",
    "total_personal_fouls.append(teams_response_2[\"own_record\"][\"total\"][\"personal_fouls\"])\n",
    "total_tech_fouls.append(teams_response_2[\"own_record\"][\"total\"][\"tech_fouls\"])\n",
    "total_points.append(teams_response_2[\"own_record\"][\"total\"][\"points\"])\n",
    "total_fast_break_pts.append(teams_response_2[\"own_record\"][\"total\"][\"fast_break_pts\"])\n",
    "total_flagrant_fouls.append(teams_response_2[\"own_record\"][\"total\"][\"flagrant_fouls\"])\n",
    "total_points_off_turnovers.append(teams_response_2[\"own_record\"][\"total\"][\"points_off_turnovers\"])\n",
    "total_second_chance_pts.append(teams_response_2[\"own_record\"][\"total\"][\"second_chance_pts\"])\n",
    "total_ejections.append(teams_response_2[\"own_record\"][\"total\"][\"ejections\"])\n",
    "total_foulouts.append(teams_response_2[\"own_record\"][\"total\"][\"foulouts\"])\n",
    "total_points_in_paint.append(teams_response_2[\"own_record\"][\"total\"][\"points_in_paint\"])\n",
    "total_efficiency.append(teams_response_2[\"own_record\"][\"total\"][\"efficiency\"])\n",
    "total_true_shooting_att.append(teams_response_2[\"own_record\"][\"total\"][\"true_shooting_att\"])\n",
    "total_true_shooting_pct.append(teams_response_2[\"own_record\"][\"total\"][\"true_shooting_pct\"])\n",
    "average_fast_break_pts.append(teams_response_2[\"own_record\"][\"average\"][\"fast_break_pts\"])\n",
    "average_points_off_turnovers.append(teams_response_2[\"own_record\"][\"average\"][\"points_off_turnovers\"])\n",
    "average_second_chance_pts.append(teams_response_2[\"own_record\"][\"average\"][\"second_chance_pts\"])\n",
    "average_minutes.append(teams_response_2[\"own_record\"][\"average\"][\"minutes\"])\n",
    "average_points.append(teams_response_2[\"own_record\"][\"average\"][\"points\"])\n",
    "average_off_rebounds.append(teams_response_2[\"own_record\"][\"average\"][\"off_rebounds\"])\n",
    "average_def_rebounds.append(teams_response_2[\"own_record\"][\"average\"][\"def_rebounds\"])\n",
    "average_rebounds.append(teams_response_2[\"own_record\"][\"average\"][\"rebounds\"])\n",
    "average_assists.append(teams_response_2[\"own_record\"][\"average\"][\"assists\"])\n",
    "average_steals.append(teams_response_2[\"own_record\"][\"average\"][\"steals\"])\n",
    "average_blocks.append(teams_response_2[\"own_record\"][\"average\"][\"blocks\"])\n",
    "average_turnovers.append(teams_response_2[\"own_record\"][\"average\"][\"turnovers\"])\n",
    "average_personal_fouls.append(teams_response_2[\"own_record\"][\"average\"][\"personal_fouls\"])\n",
    "average_flagrant_fouls.append(teams_response_2[\"own_record\"][\"average\"][\"flagrant_fouls\"])\n",
    "average_blocked_att.append(teams_response_2[\"own_record\"][\"average\"][\"blocked_att\"])\n",
    "average_field_goals_made.append(teams_response_2[\"own_record\"][\"average\"][\"field_goals_made\"])\n",
    "average_field_goals_att.append(teams_response_2[\"own_record\"][\"average\"][\"field_goals_att\"])\n",
    "average_three_points_made.append(teams_response_2[\"own_record\"][\"average\"][\"three_points_made\"])\n",
    "average_three_points_att.append(teams_response_2[\"own_record\"][\"average\"][\"three_points_att\"])\n",
    "average_free_throws_made.append(teams_response_2[\"own_record\"][\"average\"][\"free_throws_made\"])\n",
    "average_free_throws_att.append(teams_response_2[\"own_record\"][\"average\"][\"free_throws_att\"])\n",
    "average_two_points_made.append(teams_response_2[\"own_record\"][\"average\"][\"two_points_made\"])\n",
    "average_two_points_att.append(teams_response_2[\"own_record\"][\"average\"][\"two_points_att\"])\n",
    "average_points_in_paint.append(teams_response_2[\"own_record\"][\"average\"][\"points_in_paint\"])\n",
    "average_efficiency.append(teams_response_2[\"own_record\"][\"average\"][\"efficiency\"])\n",
    "average_true_shooting_att.append(teams_response_2[\"own_record\"][\"average\"][\"true_shooting_att\"])"
   ]
  },
  {
   "cell_type": "code",
   "execution_count": 138,
   "metadata": {},
   "outputs": [],
   "source": [
    "zippedList = list(zip(team_market,team_names,team_ids2,total_games_played,total_minutes_played,total_field_goals_made,total_field_goals_att,\n",
    "                      total_minutes,total_field_goals_made,total_field_goals_att,total_field_goals_pct,total_two_points_made,total_two_points_att,\n",
    "                      total_two_points_pct,total_three_points_made,total_three_points_att,total_three_points_pct,total_blocked_att,total_free_throws_made,\n",
    "                      total_free_throws_att,total_free_throws_pct,total_offensive_rebounds,total_defensive_rebounds,total_rebounds,total_assists,\n",
    "                      total_turnovers,total_assists_turnover_ratio,total_steals,total_blocks,total_personal_fouls,total_tech_fouls,total_points,\n",
    "                      total_fast_break_pts,total_flagrant_fouls,total_points_off_turnovers,total_second_chance_pts,total_ejections,total_foulouts,\n",
    "                      total_points_in_paint,total_efficiency,total_true_shooting_att,total_true_shooting_pct,average_fast_break_pts,average_points_off_turnovers,\n",
    "                      average_second_chance_pts,average_minutes,average_points,average_off_rebounds,average_def_rebounds,average_rebounds,\n",
    "                      average_assists,average_steals,average_blocks,average_turnovers,average_personal_fouls,average_flagrant_fouls,average_blocked_att,\n",
    "                      average_field_goals_made,average_field_goals_att,average_three_points_made,average_three_points_att,average_free_throws_made,\n",
    "                      average_free_throws_att,average_two_points_made,average_two_points_att,average_points_in_paint,average_efficiency,average_true_shooting_att))"
   ]
  },
  {
   "cell_type": "code",
   "execution_count": 139,
   "metadata": {},
   "outputs": [],
   "source": [
    "teamdf = pd.DataFrame({\"team_market\":team_market,\n",
    "                      \"team_name\":team_names,\n",
    "                      \"team_id\":team_ids2,\n",
    "                      #totals\n",
    "                      'total_games_played' : total_games_played,\n",
    "                      'total_minutes_played' : total_minutes_played,\n",
    "                      'total_field_goals_made' : total_field_goals_made,\n",
    "                      'total_field_goals_att' : total_field_goals_att,\n",
    "                      'total_field_goals_pct' : total_field_goals_pct,\n",
    "                      'total_two_points_made' : total_two_points_made,\n",
    "                      'total_two_points_att' : total_two_points_att,\n",
    "                      'total_two_points_pct' : total_two_points_pct,\n",
    "                      'total_three_points_made' : total_three_points_made,\n",
    "                      'total_three_points_att' : total_three_points_att,\n",
    "                      'total_three_points_pct' : total_three_points_pct,\n",
    "                      'total_blocked_att' : total_blocked_att,\n",
    "                      'total_free_throws_made' : total_free_throws_made,\n",
    "                      'total_free_throws_att' : total_free_throws_att,\n",
    "                      'total_free_throws_pct' : total_free_throws_pct,\n",
    "                      'total_offensive_rebounds' : total_offensive_rebounds,\n",
    "                      'total_defensive_rebounds' : total_defensive_rebounds,\n",
    "                      'total_rebounds' : total_rebounds,\n",
    "                      'total_assists' : total_assists,\n",
    "                      'total_turnovers' : total_turnovers,\n",
    "                      'total_assists_turnover_ratio' : total_assists_turnover_ratio,\n",
    "                      'total_steals' : total_steals,\n",
    "                      'total_blocks' : total_blocks,\n",
    "                      'total_personal_fouls' : total_personal_fouls,\n",
    "                      'total_tech_fouls' : total_tech_fouls,\n",
    "                      'total_points' : total_points,\n",
    "                      'total_fast_break_pts' : total_fast_break_pts,\n",
    "                      'total_flagrant_fouls' : total_flagrant_fouls,\n",
    "                      'total_points_off_turnovers' : total_points_off_turnovers,\n",
    "                      'total_second_chance_pts' : total_second_chance_pts,\n",
    "                      'total_ejections' : total_ejections,\n",
    "                      'total_foulouts' : total_foulouts,\n",
    "                      'total_points_in_paint' : total_points_in_paint,\n",
    "                      'total_efficiency' : total_efficiency,\n",
    "                      'total_true_shooting_att' : total_true_shooting_att,\n",
    "                      'total_true_shooting_pct' : total_true_shooting_pct,\n",
    "                      #Averages\n",
    "                      'average_fast_break_pts' : average_fast_break_pts,\n",
    "                      'average_points_off_turnovers' : average_points_off_turnovers,\n",
    "                      'average_second_chance_pts' : average_second_chance_pts,\n",
    "                      'average_minutes' : average_minutes,\n",
    "                      'average_points' : average_points,\n",
    "                      'average_off_rebounds' : average_off_rebounds,\n",
    "                      'average_def_rebounds' : average_def_rebounds,\n",
    "                      'average_rebounds' : average_rebounds,\n",
    "                      'average_assists' : average_assists,\n",
    "                      'average_steals' : average_steals,\n",
    "                      'average_blocks' : average_blocks,\n",
    "                      'average_turnovers' : average_turnovers,\n",
    "                      'average_personal_fouls' : average_personal_fouls,\n",
    "                      'average_flagrant_fouls' : average_flagrant_fouls,\n",
    "                      'average_blocked_att' : average_blocked_att,\n",
    "                      'average_field_goals_made' : average_field_goals_made,\n",
    "                      'average_field_goals_att' : average_field_goals_att,\n",
    "                      'average_three_points_made' : average_three_points_made,\n",
    "                      'average_three_points_att' : average_three_points_att,\n",
    "                      'average_free_throws_made' : average_free_throws_made,\n",
    "                      'average_free_throws_att' : average_free_throws_att,\n",
    "                      'average_two_points_made' : average_two_points_made,\n",
    "                      'average_two_points_att' : average_two_points_att,\n",
    "                      'average_points_in_paint' : average_points_in_paint,\n",
    "                      'average_efficiency' : average_efficiency,\n",
    "                      'average_true_shooting_att' : average_true_shooting_att\n",
    "\n",
    "                      })"
   ]
  },
  {
   "cell_type": "code",
   "execution_count": 140,
   "metadata": {
    "scrolled": true
   },
   "outputs": [],
   "source": [
    "#teamdf\n",
    "teamdf.to_csv(\"2018_Team_Stats_sample.csv\", index=False)"
   ]
  },
  {
   "cell_type": "code",
   "execution_count": 31,
   "metadata": {},
   "outputs": [],
   "source": [
    "#Still trying to get a loop working to pull in all market data\n",
    "#Team_url_1 = \"http://api.sportradar.us/ncaamb/trial/v4/en/seasons/2018/REG/teams/\"\n",
    "#Team_url_2 = \"/statistics.json?api_key=\"\n",
    "team_market = []\n",
    "team_names = []\n",
    "team_ids3 = []\n",
    "#Total\n",
    "total_games_played = []"
   ]
  },
  {
   "cell_type": "code",
   "execution_count": 56,
   "metadata": {
    "scrolled": true
   },
   "outputs": [],
   "source": [
    "#str1s = ''.join(team_ids)\n",
    "#team_ids"
   ]
  },
  {
   "cell_type": "code",
   "execution_count": 58,
   "metadata": {},
   "outputs": [
    {
     "data": {
      "text/plain": [
       "<_io.TextIOWrapper name='URL_List.csv' mode='r' encoding='cp1252'>"
      ]
     },
     "execution_count": 58,
     "metadata": {},
     "output_type": "execute_result"
    }
   ],
   "source": [
    "with open ('URL_List.csv',newline='') as csvfile:\n",
    "    reader=csv.DictReader(csvfile)\n",
    "    for row in reader:\n",
    "        print (row['url'])\n",
    "        \n"
   ]
  },
  {
   "cell_type": "code",
   "execution_count": null,
   "metadata": {},
   "outputs": [],
   "source": []
  },
  {
   "cell_type": "code",
   "execution_count": 42,
   "metadata": {},
   "outputs": [],
   "source": [
    "#for team_id in team_ids:\n",
    "    #Team_url_1 = \"http://api.sportradar.us/ncaamb/trial/v4/en/seasons/2018/REG/teams/\"\n",
    "    #Team_url_2 = \"/statistics.json?api_key=\"\n",
    "    #Team_response_3 = requests.get(Team_url_1 + str(team_id) + Team_url_2 + api_key)\n",
    "    #Team_url_1 = \"http://api.sportradar.us/ncaamb/trial/v4/en/seasons/2018/REG/teams/\"+str(team_id)+\"/statistics.json?api_key=\"\n",
    "    #Team_response_3 = requests.get(Team_url_1 + api_key).json()\n",
    "    #team_market.append(Team_response_3[\"market\"])\n",
    "    #team_names.append(Team_response_3[\"name\"])\n",
    "    #team_ids.append(Team_response_3[\"id\"])\n",
    "    #total_games_played.append(Team_response_3[\"own_record\"][\"total\"][\"games_played\"])\n",
    "    #Team_response_3"
   ]
  },
  {
   "cell_type": "code",
   "execution_count": 43,
   "metadata": {},
   "outputs": [
    {
     "data": {
      "text/plain": [
       "<Response [403]>"
      ]
     },
     "execution_count": 43,
     "metadata": {},
     "output_type": "execute_result"
    }
   ],
   "source": [
    "#Team_url_1\n",
    "Team_response_3"
   ]
  },
  {
   "cell_type": "code",
   "execution_count": null,
   "metadata": {},
   "outputs": [],
   "source": [
    "zippedList = list(zip(team_market,team_names,team_ids3,total_games_played))"
   ]
  },
  {
   "cell_type": "code",
   "execution_count": null,
   "metadata": {},
   "outputs": [],
   "source": [
    "teamdf = pd.DataFrame({\"team_market\":team_market,\n",
    "                      \"team_name\":team_names,\n",
    "                      \"team_id\":team_id3s,\n",
    "                      \"total_games_played\":total_games_played\n",
    "                      })"
   ]
  },
  {
   "cell_type": "code",
   "execution_count": null,
   "metadata": {},
   "outputs": [],
   "source": [
    "teamdf"
   ]
  },
  {
   "cell_type": "code",
   "execution_count": null,
   "metadata": {},
   "outputs": [],
   "source": []
  }
 ],
 "metadata": {
  "kernelspec": {
   "display_name": "Python 3",
   "language": "python",
   "name": "python3"
  },
  "language_info": {
   "codemirror_mode": {
    "name": "ipython",
    "version": 3
   },
   "file_extension": ".py",
   "mimetype": "text/x-python",
   "name": "python",
   "nbconvert_exporter": "python",
   "pygments_lexer": "ipython3",
   "version": "3.6.5"
  }
 },
 "nbformat": 4,
 "nbformat_minor": 2
}
