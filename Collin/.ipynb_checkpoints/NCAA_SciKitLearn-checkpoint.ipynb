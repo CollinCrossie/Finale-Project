{
 "cells": [
  {
   "cell_type": "code",
   "execution_count": 54,
   "metadata": {
    "scrolled": true
   },
   "outputs": [],
   "source": [
    "import pandas as pd\n",
    "import csv\n",
    "import numpy as np\n",
    "import math\n",
    "import time\n",
    "import matplotlib.pyplot as plt\n",
    "\n",
    "import sklearn\n",
    "from sklearn.neighbors import KNeighborsClassifier\n",
    "from sklearn.cross_validation import train_test_split\n",
    "from sklearn import svm\n",
    "from sklearn.svm import SVC\n",
    "from sklearn import linear_model\n",
    "from sklearn import tree\n",
    "from sklearn.cross_validation import cross_val_score\n",
    "from sklearn.ensemble import RandomForestClassifier\n",
    "from sklearn.ensemble import AdaBoostClassifier\n",
    "from sklearn.ensemble import GradientBoostingClassifier\n",
    "from sklearn.ensemble import GradientBoostingRegressor\n",
    "from sklearn.ensemble import VotingClassifier\n",
    "from sklearn.metrics import classification_report\n",
    "from sklearn.svm import LinearSVC\n",
    "\n",
    "\n",
    "from keras.models import Sequential\n",
    "\n",
    "from pprint import pprint"
   ]
  },
  {
   "cell_type": "code",
   "execution_count": 55,
   "metadata": {},
   "outputs": [
    {
     "data": {
      "text/html": [
       "<div>\n",
       "<style scoped>\n",
       "    .dataframe tbody tr th:only-of-type {\n",
       "        vertical-align: middle;\n",
       "    }\n",
       "\n",
       "    .dataframe tbody tr th {\n",
       "        vertical-align: top;\n",
       "    }\n",
       "\n",
       "    .dataframe thead th {\n",
       "        text-align: right;\n",
       "    }\n",
       "</style>\n",
       "<table border=\"1\" class=\"dataframe\">\n",
       "  <thead>\n",
       "    <tr style=\"text-align: right;\">\n",
       "      <th></th>\n",
       "      <th>team_id</th>\n",
       "      <th>season</th>\n",
       "      <th>team_name</th>\n",
       "      <th>team_mascot</th>\n",
       "      <th>seed</th>\n",
       "      <th>total_wins</th>\n",
       "      <th>total_losses</th>\n",
       "      <th>total_games_played</th>\n",
       "      <th>adj_win_perc</th>\n",
       "      <th>str_of_sched</th>\n",
       "      <th>...</th>\n",
       "      <th>average_field_goals_att</th>\n",
       "      <th>average_three_points_made</th>\n",
       "      <th>average_three_points_att</th>\n",
       "      <th>average_free_throws_made</th>\n",
       "      <th>average_free_throws_att</th>\n",
       "      <th>average_two_points_made</th>\n",
       "      <th>average_two_points_att</th>\n",
       "      <th>average_points_in_paint</th>\n",
       "      <th>average_efficiency</th>\n",
       "      <th>average_true_shooting_att</th>\n",
       "    </tr>\n",
       "  </thead>\n",
       "  <tbody>\n",
       "    <tr>\n",
       "      <th>0</th>\n",
       "      <td>9b166a3f-e64b-4825-bb6b-92c6f0418263</td>\n",
       "      <td>2017</td>\n",
       "      <td>Arizona</td>\n",
       "      <td>Wildcats</td>\n",
       "      <td>S4</td>\n",
       "      <td>27</td>\n",
       "      <td>8</td>\n",
       "      <td>35</td>\n",
       "      <td>0.7707</td>\n",
       "      <td>0.5515</td>\n",
       "      <td>...</td>\n",
       "      <td>57.23</td>\n",
       "      <td>6.77</td>\n",
       "      <td>18.34</td>\n",
       "      <td>16.09</td>\n",
       "      <td>21.17</td>\n",
       "      <td>22.06</td>\n",
       "      <td>38.89</td>\n",
       "      <td>33.60</td>\n",
       "      <td>93.97</td>\n",
       "      <td>66.54</td>\n",
       "    </tr>\n",
       "    <tr>\n",
       "      <th>1</th>\n",
       "      <td>77a69fb0-1355-4342-ac09-b4cc7949d95e</td>\n",
       "      <td>2017</td>\n",
       "      <td>Murray State</td>\n",
       "      <td>Racers</td>\n",
       "      <td>E12</td>\n",
       "      <td>24</td>\n",
       "      <td>6</td>\n",
       "      <td>32</td>\n",
       "      <td>0.8056</td>\n",
       "      <td>0.4869</td>\n",
       "      <td>...</td>\n",
       "      <td>56.34</td>\n",
       "      <td>8.47</td>\n",
       "      <td>22.47</td>\n",
       "      <td>15.75</td>\n",
       "      <td>21.47</td>\n",
       "      <td>18.72</td>\n",
       "      <td>33.88</td>\n",
       "      <td>32.88</td>\n",
       "      <td>90.63</td>\n",
       "      <td>65.79</td>\n",
       "    </tr>\n",
       "    <tr>\n",
       "      <th>2</th>\n",
       "      <td>61a3908a-7492-4b6f-809e-12c61976bb0a</td>\n",
       "      <td>2017</td>\n",
       "      <td>Loyola (IL)</td>\n",
       "      <td>Ramblers</td>\n",
       "      <td>S11</td>\n",
       "      <td>31</td>\n",
       "      <td>6</td>\n",
       "      <td>38</td>\n",
       "      <td>0.8596</td>\n",
       "      <td>0.5352</td>\n",
       "      <td>...</td>\n",
       "      <td>51.66</td>\n",
       "      <td>7.29</td>\n",
       "      <td>18.42</td>\n",
       "      <td>11.95</td>\n",
       "      <td>16.47</td>\n",
       "      <td>18.89</td>\n",
       "      <td>33.24</td>\n",
       "      <td>32.95</td>\n",
       "      <td>83.11</td>\n",
       "      <td>58.91</td>\n",
       "    </tr>\n",
       "    <tr>\n",
       "      <th>3</th>\n",
       "      <td>6ed15092-2670-450a-99c2-61d861e87644</td>\n",
       "      <td>2017</td>\n",
       "      <td>Texas</td>\n",
       "      <td>Longhorns</td>\n",
       "      <td>S10</td>\n",
       "      <td>19</td>\n",
       "      <td>15</td>\n",
       "      <td>34</td>\n",
       "      <td>0.5274</td>\n",
       "      <td>0.5699</td>\n",
       "      <td>...</td>\n",
       "      <td>59.12</td>\n",
       "      <td>7.21</td>\n",
       "      <td>22.53</td>\n",
       "      <td>12.97</td>\n",
       "      <td>19.50</td>\n",
       "      <td>18.74</td>\n",
       "      <td>36.59</td>\n",
       "      <td>32.82</td>\n",
       "      <td>76.74</td>\n",
       "      <td>67.70</td>\n",
       "    </tr>\n",
       "    <tr>\n",
       "      <th>4</th>\n",
       "      <td>b2fda957-e15c-4fb2-8a13-6e58496f561e</td>\n",
       "      <td>2017</td>\n",
       "      <td>Oklahoma</td>\n",
       "      <td>Sooners</td>\n",
       "      <td>M10</td>\n",
       "      <td>18</td>\n",
       "      <td>14</td>\n",
       "      <td>32</td>\n",
       "      <td>0.5484</td>\n",
       "      <td>0.5597</td>\n",
       "      <td>...</td>\n",
       "      <td>64.44</td>\n",
       "      <td>9.38</td>\n",
       "      <td>26.13</td>\n",
       "      <td>15.94</td>\n",
       "      <td>21.38</td>\n",
       "      <td>20.44</td>\n",
       "      <td>38.31</td>\n",
       "      <td>36.94</td>\n",
       "      <td>93.44</td>\n",
       "      <td>73.84</td>\n",
       "    </tr>\n",
       "  </tbody>\n",
       "</table>\n",
       "<p>5 rows × 72 columns</p>\n",
       "</div>"
      ],
      "text/plain": [
       "                                team_id  season     team_name team_mascot  \\\n",
       "0  9b166a3f-e64b-4825-bb6b-92c6f0418263    2017       Arizona    Wildcats   \n",
       "1  77a69fb0-1355-4342-ac09-b4cc7949d95e    2017  Murray State      Racers   \n",
       "2  61a3908a-7492-4b6f-809e-12c61976bb0a    2017   Loyola (IL)    Ramblers   \n",
       "3  6ed15092-2670-450a-99c2-61d861e87644    2017         Texas   Longhorns   \n",
       "4  b2fda957-e15c-4fb2-8a13-6e58496f561e    2017      Oklahoma     Sooners   \n",
       "\n",
       "  seed  total_wins  total_losses  total_games_played  adj_win_perc  \\\n",
       "0   S4          27             8                  35        0.7707   \n",
       "1  E12          24             6                  32        0.8056   \n",
       "2  S11          31             6                  38        0.8596   \n",
       "3  S10          19            15                  34        0.5274   \n",
       "4  M10          18            14                  32        0.5484   \n",
       "\n",
       "   str_of_sched            ...              average_field_goals_att  \\\n",
       "0        0.5515            ...                                57.23   \n",
       "1        0.4869            ...                                56.34   \n",
       "2        0.5352            ...                                51.66   \n",
       "3        0.5699            ...                                59.12   \n",
       "4        0.5597            ...                                64.44   \n",
       "\n",
       "   average_three_points_made  average_three_points_att  \\\n",
       "0                       6.77                     18.34   \n",
       "1                       8.47                     22.47   \n",
       "2                       7.29                     18.42   \n",
       "3                       7.21                     22.53   \n",
       "4                       9.38                     26.13   \n",
       "\n",
       "   average_free_throws_made  average_free_throws_att  average_two_points_made  \\\n",
       "0                     16.09                    21.17                    22.06   \n",
       "1                     15.75                    21.47                    18.72   \n",
       "2                     11.95                    16.47                    18.89   \n",
       "3                     12.97                    19.50                    18.74   \n",
       "4                     15.94                    21.38                    20.44   \n",
       "\n",
       "   average_two_points_att  average_points_in_paint  average_efficiency  \\\n",
       "0                   38.89                    33.60               93.97   \n",
       "1                   33.88                    32.88               90.63   \n",
       "2                   33.24                    32.95               83.11   \n",
       "3                   36.59                    32.82               76.74   \n",
       "4                   38.31                    36.94               93.44   \n",
       "\n",
       "   average_true_shooting_att  \n",
       "0                      66.54  \n",
       "1                      65.79  \n",
       "2                      58.91  \n",
       "3                      67.70  \n",
       "4                      73.84  \n",
       "\n",
       "[5 rows x 72 columns]"
      ]
     },
     "execution_count": 55,
     "metadata": {},
     "output_type": "execute_result"
    }
   ],
   "source": [
    "NCAA_Seasons_pd = pd.read_csv('NCAA_Final.csv')\n",
    "\n",
    "NCAA_Seasons_pd.head()\n",
    "\n"
   ]
  },
  {
   "cell_type": "code",
   "execution_count": 95,
   "metadata": {
    "scrolled": true
   },
   "outputs": [
    {
     "name": "stdout",
     "output_type": "stream",
     "text": [
      "Index(['team_id', 'season', 'team_name', 'team_mascot', 'seed', 'total_wins',\n",
      "       'total_losses', 'total_games_played', 'adj_win_perc', 'str_of_sched',\n",
      "       'rpi', 'total_minutes_played', 'total_field_goals_made',\n",
      "       'total_field_goals_att', 'total_field_goals_pct',\n",
      "       'total_two_points_made', 'total_two_points_att', 'total_two_points_pct',\n",
      "       'total_three_points_made', 'total_three_points_att',\n",
      "       'total_three_points_pct', 'total_blocked_att', 'total_free_throws_made',\n",
      "       'total_free_throws_att', 'total_free_throws_pct',\n",
      "       'total_offensive_rebounds', 'total_defensive_rebounds',\n",
      "       'total_rebounds', 'total_assists', 'total_turnovers',\n",
      "       'total_assists_turnover_ratio', 'total_steals', 'total_blocks',\n",
      "       'total_personal_fouls', 'total_tech_fouls', 'total_points',\n",
      "       'total_fast_break_pts', 'total_flagrant_fouls',\n",
      "       'total_points_off_turnovers', 'total_second_chance_pts',\n",
      "       'total_ejections', 'total_foulouts', 'total_points_in_paint',\n",
      "       'total_efficiency', 'total_true_shooting_att',\n",
      "       'total_true_shooting_pct', 'average_fast_break_pts',\n",
      "       'average_points_off_turnovers', 'average_second_chance_pts',\n",
      "       'average_minutes', 'average_points', 'average_off_rebounds',\n",
      "       'average_def_rebounds', 'average_rebounds', 'average_assists',\n",
      "       'average_steals', 'average_blocks', 'average_turnovers',\n",
      "       'average_personal_fouls', 'average_flagrant_fouls',\n",
      "       'average_blocked_att', 'average_field_goals_made',\n",
      "       'average_field_goals_att', 'average_three_points_made',\n",
      "       'average_three_points_att', 'average_free_throws_made',\n",
      "       'average_free_throws_att', 'average_two_points_made',\n",
      "       'average_two_points_att', 'average_points_in_paint',\n",
      "       'average_efficiency', 'average_true_shooting_att'],\n",
      "      dtype='object')\n"
     ]
    }
   ],
   "source": [
    "pprint(NCAA_Seasons_pd.columns)"
   ]
  },
  {
   "cell_type": "code",
   "execution_count": 96,
   "metadata": {},
   "outputs": [
    {
     "name": "stdout",
     "output_type": "stream",
     "text": [
      "['Arizona', 'Murray State', 'Loyola (IL)', 'Texas', 'Oklahoma', 'Kansas State', 'West Virginia', 'TCU', 'Texas Tech', 'Kansas', 'Georgia State', 'Montana', 'Houston', 'Cincinnati', 'Wichita State', 'UNC Greensboro', 'South Dakota State', 'Cal State Fullerton', 'Marshall', 'New Mexico State', 'Stephen F. Austin', 'Texas Southern', 'Virginia Tech', 'North Carolina State', 'Virginia', 'Miami (FL)', 'Syracuse', 'Florida State', 'Clemson', 'North Carolina', 'Duke', 'Lipscomb', 'Bucknell', 'Radford', 'Wright State', 'Nevada', 'San Diego State', 'Auburn', 'Kentucky', 'Missouri', 'Florida', 'Tennessee', 'Alabama', 'Arkansas', 'Texas A&M', 'Buffalo', 'Purdue', 'Ohio State', 'Michigan State', 'Michigan', 'UMBC', 'Pennsylvania', 'Charleston', 'Gonzaga', 'Xavier', 'Villanova', 'Providence', 'Creighton', 'Seton Hall', 'Butler', 'St. Bonaventure', 'Davidson', 'Rhode Island', 'Iona', 'Arizona', 'Murray State', 'Loyola (IL)', 'Texas', 'Oklahoma', 'Kansas State', 'West Virginia', 'TCU', 'Texas Tech', 'Kansas', 'Georgia State', 'Montana', 'Houston', 'Cincinnati', 'Wichita State', 'UNC Greensboro', 'South Dakota State', 'Cal State Fullerton', 'Marshall', 'New Mexico State', 'Stephen F. Austin', 'Texas Southern', 'Virginia Tech', 'North Carolina State', 'Virginia', 'Miami (FL)', 'Syracuse', 'Florida State', 'Clemson', 'North Carolina', 'Duke', 'Lipscomb', 'Bucknell', 'Radford', 'Wright State', 'Nevada', 'San Diego State', 'Auburn', 'Kentucky', 'Missouri', 'Florida', 'Tennessee', 'Alabama', 'Arkansas', 'Texas A&M', 'Buffalo', 'Purdue', 'Ohio State', 'Michigan State', 'Michigan', 'UMBC', 'Pennsylvania', 'Charleston', 'Gonzaga', 'Xavier', 'Villanova', 'Providence', 'Creighton', 'Seton Hall', 'Butler', 'St. Bonaventure', 'Davidson', 'Rhode Island', 'Iona']\n"
     ]
    }
   ],
   "source": [
    "teamList = NCAA_Seasons_pd['team_name'].tolist()\n",
    "print (teamList)"
   ]
  },
  {
   "cell_type": "code",
   "execution_count": 97,
   "metadata": {},
   "outputs": [],
   "source": [
    "E_2017 = [\"Villanova\", \"Butler\", \"St. Bonaventure\", \"Murray State\", \"Marshall\", \"Stephen F. Austin\", \"Cal State Fullerton\", \n",
    "         \"Radford\", \"Purdue\", \"Texas Tech\", \"Wichita State\", \"West Virginia\", \"Florida\", \"Arkansas\", \"Virginia Tech\", \"Alabama\"]\n",
    "\n",
    "S_2017 = [\"Virginia\", \"Texas\", \"Loyola (IL)\", \"Davidson\", \"Buffalo\", \"Wright State\", \"Georgia State\", \"UMBC\", \"Cincinnati\", \"Tennessee\", \n",
    "          \"Arizona\", \"Kentucky\", \"Miami (FL)\", \"Nevada\", \"Creighton\", \"Kansas State\"]\n",
    "\n",
    "M_2017 = [\"Kansas\", \"Oklahoma\", \"Syracuse\", \"New Mexico State\", \"Charleston\", \"Bucknell\", \"Iona\", \"Pennsylvania\", \"Duke\", \n",
    "          \"Michigan State\", \"Auburn\", \"Clemson\", \"TCU\", \"Rhode Island\", \"Seton Hall\", \"North Carolina State\"]\n",
    "\n",
    "W_2017 = [\"Xavier\", \"Providence\", \"San Diego State\", \"South Dakota State\", \"UNC Greensboro\", \"Montana\", \"Lipscomb\", \"Texas Southern\", \n",
    "          \"North Carolina\", \"Michigan\", \"Gonzaga\", \"Ohio State\", \"Houston\", \"Texas A&M\", \"Missouri\", \"Florida State\"]\n",
    "\n",
    "E_2018 = [\"Villanova\", \"Butler\", \"St. Bonaventure\", \"Murray State\", \"Marshall\", \"Stephen F. Austin\", \"Cal State Fullerton\", \n",
    "         \"Radford\", \"Purdue\", \"Texas Tech\", \"Wichita State\", \"West Virginia\", \"Florida\", \"Arkansas\", \"Virginia Tech\", \"Alabama\"]\n",
    "\n",
    "S_2018 = [\"Virginia\", \"Texas\", \"Loyola (IL)\", \"Davidson\", \"Buffalo\", \"Wright State\", \"Georgia State\", \"UMBC\", \"Cincinnati\", \"Tennessee\", \n",
    "          \"Arizona\", \"Kentucky\", \"Miami (FL)\", \"Nevada\", \"Creighton\", \"Kansas State\"]\n",
    "\n",
    "M_2018 = [\"Kansas\", \"Oklahoma\", \"Syracuse\", \"New Mexico State\", \"Charleston\", \"Bucknell\", \"Iona\", \"Pennsylvania\", \"Duke\", \n",
    "          \"Michigan State\", \"Auburn\", \"Clemson\", \"TCU\", \"Rhode Island\", \"Seton Hall\", \"North Carolina State\"]\n",
    "\n",
    "W_2018 = [\"Xavier\", \"Providence\", \"San Diego State\", \"South Dakota State\", \"UNC Greensboro\", \"Montana\", \"Lipscomb\", \"Texas Southern\", \n",
    "          \"North Carolina\", \"Michigan\", \"Gonzaga\", \"Ohio State\", \"Houston\", \"Texas A&M\", \"Missouri\", \"Florida State\"]"
   ]
  },
  {
   "cell_type": "code",
   "execution_count": 98,
   "metadata": {},
   "outputs": [],
   "source": [
    "def getTeamName(team_name):\n",
    "    return NCAA_Seasons_pd[NCAA_Seasons_pd['team_name'] == team_name].values[0][0]"
   ]
  },
  {
   "cell_type": "code",
   "execution_count": 99,
   "metadata": {},
   "outputs": [],
   "source": [
    "def getSeasonData(team_name, year):\n",
    "    year_data = NCAA_Seasons_pd[NCAA_Seasons_pd['season'] == year]\n",
    "    total_wins = NCAA_Seasons_pd[NCAA_Seasons_pd.total_wins == team_name]\n",
    "    adj_win_perc = NCAA_Seasons_pd[NCAA_Seasons_pd.adj_win_perc == team_name]\n",
    "    str_of_sched = NCAA_Seasons_pd[NCAA_Seasons_pd.str_of_sched == team_name]\n",
    "    rpi = NCAA_Seasons_pd[NCAA_Seasons_pd.rpi == team_name]\n",
    "    total_field_goals_pct = NCAA_Seasons_pd[NCAA_Seasons_pd.total_field_goals_pct == team_name]\n",
    "    total_two_points_pct = NCAA_Seasons_pd[NCAA_Seasons_pd.total_two_points_pct == team_name]\n",
    "    total_three_points_pct = NCAA_Seasons_pd[NCAA_Seasons_pd.total_three_points_pct == team_name]\n",
    "    total_free_throws_pct = NCAA_Seasons_pd[NCAA_Seasons_pd.total_free_throws_pct == team_name]\n",
    "    total_true_shooting_pct = NCAA_Seasons_pd[NCAA_Seasons_pd.total_true_shooting_pct == team_name]\n",
    "    average_rebounds = NCAA_Seasons_pd[NCAA_Seasons_pd.average_rebounds == team_name]\n",
    "    average_blocks = NCAA_Seasons_pd[NCAA_Seasons_pd.average_blocks == team_name]\n",
    "    average_turnovers = NCAA_Seasons_pd[NCAA_Seasons_pd.average_turnovers == team_name]\n",
    "    average_efficiency = NCAA_Seasons_pd[NCAA_Seasons_pd.average_efficiency == team_name]\n",
    "    average_fast_break_pts = NCAA_Seasons_pd[NCAA_Seasons_pd.average_fast_break_pts == team_name]\n",
    "    average_points_off_turnovers = NCAA_Seasons_pd[NCAA_Seasons_pd.average_points_off_turnovers == team_name]\n",
    "    average_second_chance_pts = NCAA_Seasons_pd[NCAA_Seasons_pd.average_second_chance_pts == team_name]\n",
    "    average_minutes = NCAA_Seasons_pd[NCAA_Seasons_pd.average_minutes == team_name]\n",
    "    average_points = NCAA_Seasons_pd[NCAA_Seasons_pd.average_points == team_name]\n",
    "    \n",
    "    \n",
    "    return [total_wins, adj_win_perc, str_of_sched, rpi, total_field_goals_pct, \n",
    "            total_two_points_pct, total_three_points_pct, total_free_throws_pct, total_true_shooting_pct,\n",
    "            average_rebounds, average_blocks, average_turnovers, average_efficiency, average_fast_break_pts,\n",
    "            average_points_off_turnovers, average_second_chance_pts, average_minutes, average_points]\n",
    "    "
   ]
  },
  {
   "cell_type": "code",
   "execution_count": 100,
   "metadata": {},
   "outputs": [
    {
     "name": "stderr",
     "output_type": "stream",
     "text": [
      "/anaconda3/envs/PythonData/lib/python3.6/site-packages/pandas/core/ops.py:1164: FutureWarning: elementwise comparison failed; returning scalar instead, but in the future will perform elementwise comparison\n",
      "  result = method(y)\n"
     ]
    },
    {
     "ename": "TypeError",
     "evalue": "invalid type comparison",
     "output_type": "error",
     "traceback": [
      "\u001b[0;31m---------------------------------------------------------------------------\u001b[0m",
      "\u001b[0;31mTypeError\u001b[0m                                 Traceback (most recent call last)",
      "\u001b[0;32m<ipython-input-100-654abfb7badb>\u001b[0m in \u001b[0;36m<module>\u001b[0;34m()\u001b[0m\n\u001b[1;32m      1\u001b[0m \u001b[0mkansas\u001b[0m \u001b[0;34m=\u001b[0m \u001b[0mNCAA_Seasons_pd\u001b[0m\u001b[0;34m[\u001b[0m\u001b[0mNCAA_Seasons_pd\u001b[0m\u001b[0;34m[\u001b[0m\u001b[0;34m'team_name'\u001b[0m\u001b[0;34m]\u001b[0m \u001b[0;34m==\u001b[0m \u001b[0;34m'Kansas'\u001b[0m\u001b[0;34m]\u001b[0m\u001b[0;34m.\u001b[0m\u001b[0mvalues\u001b[0m\u001b[0;34m[\u001b[0m\u001b[0;36m0\u001b[0m\u001b[0;34m]\u001b[0m\u001b[0;34m[\u001b[0m\u001b[0;36m0\u001b[0m\u001b[0;34m]\u001b[0m\u001b[0;34m\u001b[0m\u001b[0;34m\u001b[0m\u001b[0m\n\u001b[0;32m----> 2\u001b[0;31m \u001b[0mgetSeasonData\u001b[0m\u001b[0;34m(\u001b[0m\u001b[0mkansas\u001b[0m\u001b[0;34m,\u001b[0m \u001b[0;36m2017\u001b[0m\u001b[0;34m)\u001b[0m\u001b[0;34m\u001b[0m\u001b[0;34m\u001b[0m\u001b[0m\n\u001b[0m",
      "\u001b[0;32m<ipython-input-99-cbcf1ad30223>\u001b[0m in \u001b[0;36mgetSeasonData\u001b[0;34m(team_name, year)\u001b[0m\n\u001b[1;32m      1\u001b[0m \u001b[0;32mdef\u001b[0m \u001b[0mgetSeasonData\u001b[0m\u001b[0;34m(\u001b[0m\u001b[0mteam_name\u001b[0m\u001b[0;34m,\u001b[0m \u001b[0myear\u001b[0m\u001b[0;34m)\u001b[0m\u001b[0;34m:\u001b[0m\u001b[0;34m\u001b[0m\u001b[0;34m\u001b[0m\u001b[0m\n\u001b[1;32m      2\u001b[0m     \u001b[0myear_data\u001b[0m \u001b[0;34m=\u001b[0m \u001b[0mNCAA_Seasons_pd\u001b[0m\u001b[0;34m[\u001b[0m\u001b[0mNCAA_Seasons_pd\u001b[0m\u001b[0;34m[\u001b[0m\u001b[0;34m'season'\u001b[0m\u001b[0;34m]\u001b[0m \u001b[0;34m==\u001b[0m \u001b[0myear\u001b[0m\u001b[0;34m]\u001b[0m\u001b[0;34m\u001b[0m\u001b[0;34m\u001b[0m\u001b[0m\n\u001b[0;32m----> 3\u001b[0;31m     \u001b[0mtotal_wins\u001b[0m \u001b[0;34m=\u001b[0m \u001b[0mNCAA_Seasons_pd\u001b[0m\u001b[0;34m[\u001b[0m\u001b[0mNCAA_Seasons_pd\u001b[0m\u001b[0;34m.\u001b[0m\u001b[0mtotal_wins\u001b[0m \u001b[0;34m==\u001b[0m \u001b[0mteam_name\u001b[0m\u001b[0;34m]\u001b[0m\u001b[0;34m\u001b[0m\u001b[0;34m\u001b[0m\u001b[0m\n\u001b[0m\u001b[1;32m      4\u001b[0m     \u001b[0madj_win_perc\u001b[0m \u001b[0;34m=\u001b[0m \u001b[0mNCAA_Seasons_pd\u001b[0m\u001b[0;34m[\u001b[0m\u001b[0mNCAA_Seasons_pd\u001b[0m\u001b[0;34m.\u001b[0m\u001b[0madj_win_perc\u001b[0m \u001b[0;34m==\u001b[0m \u001b[0mteam_name\u001b[0m\u001b[0;34m]\u001b[0m\u001b[0;34m\u001b[0m\u001b[0;34m\u001b[0m\u001b[0m\n\u001b[1;32m      5\u001b[0m     \u001b[0mstr_of_sched\u001b[0m \u001b[0;34m=\u001b[0m \u001b[0mNCAA_Seasons_pd\u001b[0m\u001b[0;34m[\u001b[0m\u001b[0mNCAA_Seasons_pd\u001b[0m\u001b[0;34m.\u001b[0m\u001b[0mstr_of_sched\u001b[0m \u001b[0;34m==\u001b[0m \u001b[0mteam_name\u001b[0m\u001b[0;34m]\u001b[0m\u001b[0;34m\u001b[0m\u001b[0;34m\u001b[0m\u001b[0m\n",
      "\u001b[0;32m/anaconda3/envs/PythonData/lib/python3.6/site-packages/pandas/core/ops.py\u001b[0m in \u001b[0;36mwrapper\u001b[0;34m(self, other, axis)\u001b[0m\n\u001b[1;32m   1251\u001b[0m \u001b[0;34m\u001b[0m\u001b[0m\n\u001b[1;32m   1252\u001b[0m             \u001b[0;32mwith\u001b[0m \u001b[0mnp\u001b[0m\u001b[0;34m.\u001b[0m\u001b[0merrstate\u001b[0m\u001b[0;34m(\u001b[0m\u001b[0mall\u001b[0m\u001b[0;34m=\u001b[0m\u001b[0;34m'ignore'\u001b[0m\u001b[0;34m)\u001b[0m\u001b[0;34m:\u001b[0m\u001b[0;34m\u001b[0m\u001b[0;34m\u001b[0m\u001b[0m\n\u001b[0;32m-> 1253\u001b[0;31m                 \u001b[0mres\u001b[0m \u001b[0;34m=\u001b[0m \u001b[0mna_op\u001b[0m\u001b[0;34m(\u001b[0m\u001b[0mvalues\u001b[0m\u001b[0;34m,\u001b[0m \u001b[0mother\u001b[0m\u001b[0;34m)\u001b[0m\u001b[0;34m\u001b[0m\u001b[0;34m\u001b[0m\u001b[0m\n\u001b[0m\u001b[1;32m   1254\u001b[0m             \u001b[0;32mif\u001b[0m \u001b[0mis_scalar\u001b[0m\u001b[0;34m(\u001b[0m\u001b[0mres\u001b[0m\u001b[0;34m)\u001b[0m\u001b[0;34m:\u001b[0m\u001b[0;34m\u001b[0m\u001b[0;34m\u001b[0m\u001b[0m\n\u001b[1;32m   1255\u001b[0m                 raise TypeError('Could not compare {typ} type with Series'\n",
      "\u001b[0;32m/anaconda3/envs/PythonData/lib/python3.6/site-packages/pandas/core/ops.py\u001b[0m in \u001b[0;36mna_op\u001b[0;34m(x, y)\u001b[0m\n\u001b[1;32m   1164\u001b[0m                     \u001b[0mresult\u001b[0m \u001b[0;34m=\u001b[0m \u001b[0mmethod\u001b[0m\u001b[0;34m(\u001b[0m\u001b[0my\u001b[0m\u001b[0;34m)\u001b[0m\u001b[0;34m\u001b[0m\u001b[0;34m\u001b[0m\u001b[0m\n\u001b[1;32m   1165\u001b[0m                 \u001b[0;32mif\u001b[0m \u001b[0mresult\u001b[0m \u001b[0;32mis\u001b[0m \u001b[0mNotImplemented\u001b[0m\u001b[0;34m:\u001b[0m\u001b[0;34m\u001b[0m\u001b[0;34m\u001b[0m\u001b[0m\n\u001b[0;32m-> 1166\u001b[0;31m                     \u001b[0;32mraise\u001b[0m \u001b[0mTypeError\u001b[0m\u001b[0;34m(\u001b[0m\u001b[0;34m\"invalid type comparison\"\u001b[0m\u001b[0;34m)\u001b[0m\u001b[0;34m\u001b[0m\u001b[0;34m\u001b[0m\u001b[0m\n\u001b[0m\u001b[1;32m   1167\u001b[0m             \u001b[0;32melse\u001b[0m\u001b[0;34m:\u001b[0m\u001b[0;34m\u001b[0m\u001b[0;34m\u001b[0m\u001b[0m\n\u001b[1;32m   1168\u001b[0m                 \u001b[0mresult\u001b[0m \u001b[0;34m=\u001b[0m \u001b[0mop\u001b[0m\u001b[0;34m(\u001b[0m\u001b[0mx\u001b[0m\u001b[0;34m,\u001b[0m \u001b[0my\u001b[0m\u001b[0;34m)\u001b[0m\u001b[0;34m\u001b[0m\u001b[0;34m\u001b[0m\u001b[0m\n",
      "\u001b[0;31mTypeError\u001b[0m: invalid type comparison"
     ]
    }
   ],
   "source": [
    "kansas = NCAA_Seasons_pd[NCAA_Seasons_pd['team_name'] == 'Kansas'].values[0][0]\n",
    "getSeasonData(kansas, 2017)"
   ]
  },
  {
   "cell_type": "code",
   "execution_count": 101,
   "metadata": {},
   "outputs": [],
   "source": [
    "def compareTwoTeams(team_name_1, team_name_2, year):\n",
    "    team_1 = getSeasonData(team_name_1, year)\n",
    "    team_2 = getSeasonData(team_name_2, year)\n",
    "    diff = [a - b for a, b in zip(team_1, team_2)]\n",
    "    return diff"
   ]
  },
  {
   "cell_type": "code",
   "execution_count": 103,
   "metadata": {},
   "outputs": [
    {
     "name": "stderr",
     "output_type": "stream",
     "text": [
      "/anaconda3/envs/PythonData/lib/python3.6/site-packages/pandas/core/ops.py:1164: FutureWarning: elementwise comparison failed; returning scalar instead, but in the future will perform elementwise comparison\n",
      "  result = method(y)\n"
     ]
    },
    {
     "ename": "TypeError",
     "evalue": "invalid type comparison",
     "output_type": "error",
     "traceback": [
      "\u001b[0;31m---------------------------------------------------------------------------\u001b[0m",
      "\u001b[0;31mTypeError\u001b[0m                                 Traceback (most recent call last)",
      "\u001b[0;32m<ipython-input-103-e6676633c996>\u001b[0m in \u001b[0;36m<module>\u001b[0;34m()\u001b[0m\n\u001b[1;32m      1\u001b[0m \u001b[0mkentucky_id\u001b[0m \u001b[0;34m=\u001b[0m \u001b[0mNCAA_Seasons_pd\u001b[0m\u001b[0;34m[\u001b[0m\u001b[0mNCAA_Seasons_pd\u001b[0m\u001b[0;34m[\u001b[0m\u001b[0;34m'team_name'\u001b[0m\u001b[0;34m]\u001b[0m \u001b[0;34m==\u001b[0m \u001b[0;34m'Kentucky'\u001b[0m\u001b[0;34m]\u001b[0m\u001b[0;34m.\u001b[0m\u001b[0mvalues\u001b[0m\u001b[0;34m[\u001b[0m\u001b[0;36m0\u001b[0m\u001b[0;34m]\u001b[0m\u001b[0;34m[\u001b[0m\u001b[0;36m0\u001b[0m\u001b[0;34m]\u001b[0m\u001b[0;34m\u001b[0m\u001b[0;34m\u001b[0m\u001b[0m\n\u001b[1;32m      2\u001b[0m \u001b[0;34m\u001b[0m\u001b[0m\n\u001b[0;32m----> 3\u001b[0;31m \u001b[0mgetSeasonData\u001b[0m\u001b[0;34m(\u001b[0m\u001b[0mkentucky_id\u001b[0m\u001b[0;34m,\u001b[0m \u001b[0;36m2017\u001b[0m\u001b[0;34m)\u001b[0m\u001b[0;34m\u001b[0m\u001b[0;34m\u001b[0m\u001b[0m\n\u001b[0m",
      "\u001b[0;32m<ipython-input-99-cbcf1ad30223>\u001b[0m in \u001b[0;36mgetSeasonData\u001b[0;34m(team_name, year)\u001b[0m\n\u001b[1;32m      1\u001b[0m \u001b[0;32mdef\u001b[0m \u001b[0mgetSeasonData\u001b[0m\u001b[0;34m(\u001b[0m\u001b[0mteam_name\u001b[0m\u001b[0;34m,\u001b[0m \u001b[0myear\u001b[0m\u001b[0;34m)\u001b[0m\u001b[0;34m:\u001b[0m\u001b[0;34m\u001b[0m\u001b[0;34m\u001b[0m\u001b[0m\n\u001b[1;32m      2\u001b[0m     \u001b[0myear_data\u001b[0m \u001b[0;34m=\u001b[0m \u001b[0mNCAA_Seasons_pd\u001b[0m\u001b[0;34m[\u001b[0m\u001b[0mNCAA_Seasons_pd\u001b[0m\u001b[0;34m[\u001b[0m\u001b[0;34m'season'\u001b[0m\u001b[0;34m]\u001b[0m \u001b[0;34m==\u001b[0m \u001b[0myear\u001b[0m\u001b[0;34m]\u001b[0m\u001b[0;34m\u001b[0m\u001b[0;34m\u001b[0m\u001b[0m\n\u001b[0;32m----> 3\u001b[0;31m     \u001b[0mtotal_wins\u001b[0m \u001b[0;34m=\u001b[0m \u001b[0mNCAA_Seasons_pd\u001b[0m\u001b[0;34m[\u001b[0m\u001b[0mNCAA_Seasons_pd\u001b[0m\u001b[0;34m.\u001b[0m\u001b[0mtotal_wins\u001b[0m \u001b[0;34m==\u001b[0m \u001b[0mteam_name\u001b[0m\u001b[0;34m]\u001b[0m\u001b[0;34m\u001b[0m\u001b[0;34m\u001b[0m\u001b[0m\n\u001b[0m\u001b[1;32m      4\u001b[0m     \u001b[0madj_win_perc\u001b[0m \u001b[0;34m=\u001b[0m \u001b[0mNCAA_Seasons_pd\u001b[0m\u001b[0;34m[\u001b[0m\u001b[0mNCAA_Seasons_pd\u001b[0m\u001b[0;34m.\u001b[0m\u001b[0madj_win_perc\u001b[0m \u001b[0;34m==\u001b[0m \u001b[0mteam_name\u001b[0m\u001b[0;34m]\u001b[0m\u001b[0;34m\u001b[0m\u001b[0;34m\u001b[0m\u001b[0m\n\u001b[1;32m      5\u001b[0m     \u001b[0mstr_of_sched\u001b[0m \u001b[0;34m=\u001b[0m \u001b[0mNCAA_Seasons_pd\u001b[0m\u001b[0;34m[\u001b[0m\u001b[0mNCAA_Seasons_pd\u001b[0m\u001b[0;34m.\u001b[0m\u001b[0mstr_of_sched\u001b[0m \u001b[0;34m==\u001b[0m \u001b[0mteam_name\u001b[0m\u001b[0;34m]\u001b[0m\u001b[0;34m\u001b[0m\u001b[0;34m\u001b[0m\u001b[0m\n",
      "\u001b[0;32m/anaconda3/envs/PythonData/lib/python3.6/site-packages/pandas/core/ops.py\u001b[0m in \u001b[0;36mwrapper\u001b[0;34m(self, other, axis)\u001b[0m\n\u001b[1;32m   1251\u001b[0m \u001b[0;34m\u001b[0m\u001b[0m\n\u001b[1;32m   1252\u001b[0m             \u001b[0;32mwith\u001b[0m \u001b[0mnp\u001b[0m\u001b[0;34m.\u001b[0m\u001b[0merrstate\u001b[0m\u001b[0;34m(\u001b[0m\u001b[0mall\u001b[0m\u001b[0;34m=\u001b[0m\u001b[0;34m'ignore'\u001b[0m\u001b[0;34m)\u001b[0m\u001b[0;34m:\u001b[0m\u001b[0;34m\u001b[0m\u001b[0;34m\u001b[0m\u001b[0m\n\u001b[0;32m-> 1253\u001b[0;31m                 \u001b[0mres\u001b[0m \u001b[0;34m=\u001b[0m \u001b[0mna_op\u001b[0m\u001b[0;34m(\u001b[0m\u001b[0mvalues\u001b[0m\u001b[0;34m,\u001b[0m \u001b[0mother\u001b[0m\u001b[0;34m)\u001b[0m\u001b[0;34m\u001b[0m\u001b[0;34m\u001b[0m\u001b[0m\n\u001b[0m\u001b[1;32m   1254\u001b[0m             \u001b[0;32mif\u001b[0m \u001b[0mis_scalar\u001b[0m\u001b[0;34m(\u001b[0m\u001b[0mres\u001b[0m\u001b[0;34m)\u001b[0m\u001b[0;34m:\u001b[0m\u001b[0;34m\u001b[0m\u001b[0;34m\u001b[0m\u001b[0m\n\u001b[1;32m   1255\u001b[0m                 raise TypeError('Could not compare {typ} type with Series'\n",
      "\u001b[0;32m/anaconda3/envs/PythonData/lib/python3.6/site-packages/pandas/core/ops.py\u001b[0m in \u001b[0;36mna_op\u001b[0;34m(x, y)\u001b[0m\n\u001b[1;32m   1164\u001b[0m                     \u001b[0mresult\u001b[0m \u001b[0;34m=\u001b[0m \u001b[0mmethod\u001b[0m\u001b[0;34m(\u001b[0m\u001b[0my\u001b[0m\u001b[0;34m)\u001b[0m\u001b[0;34m\u001b[0m\u001b[0;34m\u001b[0m\u001b[0m\n\u001b[1;32m   1165\u001b[0m                 \u001b[0;32mif\u001b[0m \u001b[0mresult\u001b[0m \u001b[0;32mis\u001b[0m \u001b[0mNotImplemented\u001b[0m\u001b[0;34m:\u001b[0m\u001b[0;34m\u001b[0m\u001b[0;34m\u001b[0m\u001b[0m\n\u001b[0;32m-> 1166\u001b[0;31m                     \u001b[0;32mraise\u001b[0m \u001b[0mTypeError\u001b[0m\u001b[0;34m(\u001b[0m\u001b[0;34m\"invalid type comparison\"\u001b[0m\u001b[0;34m)\u001b[0m\u001b[0;34m\u001b[0m\u001b[0;34m\u001b[0m\u001b[0m\n\u001b[0m\u001b[1;32m   1167\u001b[0m             \u001b[0;32melse\u001b[0m\u001b[0;34m:\u001b[0m\u001b[0;34m\u001b[0m\u001b[0;34m\u001b[0m\u001b[0m\n\u001b[1;32m   1168\u001b[0m                 \u001b[0mresult\u001b[0m \u001b[0;34m=\u001b[0m \u001b[0mop\u001b[0m\u001b[0;34m(\u001b[0m\u001b[0mx\u001b[0m\u001b[0;34m,\u001b[0m \u001b[0my\u001b[0m\u001b[0;34m)\u001b[0m\u001b[0;34m\u001b[0m\u001b[0;34m\u001b[0m\u001b[0m\n",
      "\u001b[0;31mTypeError\u001b[0m: invalid type comparison"
     ]
    }
   ],
   "source": [
    "kentucky_id = NCAA_Seasons_pd[NCAA_Seasons_pd['team_name'] == 'Kentucky'].values[0][0]\n",
    "\n",
    "getSeasonData(kentucky_id, 2017)"
   ]
  },
  {
   "cell_type": "code",
   "execution_count": 104,
   "metadata": {},
   "outputs": [
    {
     "name": "stderr",
     "output_type": "stream",
     "text": [
      "/anaconda3/envs/PythonData/lib/python3.6/site-packages/pandas/core/ops.py:1164: FutureWarning: elementwise comparison failed; returning scalar instead, but in the future will perform elementwise comparison\n",
      "  result = method(y)\n"
     ]
    },
    {
     "ename": "TypeError",
     "evalue": "invalid type comparison",
     "output_type": "error",
     "traceback": [
      "\u001b[0;31m---------------------------------------------------------------------------\u001b[0m",
      "\u001b[0;31mTypeError\u001b[0m                                 Traceback (most recent call last)",
      "\u001b[0;32m<ipython-input-104-f68d018f162a>\u001b[0m in \u001b[0;36m<module>\u001b[0;34m()\u001b[0m\n\u001b[1;32m      1\u001b[0m \u001b[0mkasas_id\u001b[0m \u001b[0;34m=\u001b[0m \u001b[0mNCAA_Seasons_pd\u001b[0m\u001b[0;34m[\u001b[0m\u001b[0mNCAA_Seasons_pd\u001b[0m\u001b[0;34m[\u001b[0m\u001b[0;34m'team_name'\u001b[0m\u001b[0;34m]\u001b[0m \u001b[0;34m==\u001b[0m \u001b[0;34m'Kansas'\u001b[0m\u001b[0;34m]\u001b[0m\u001b[0;34m.\u001b[0m\u001b[0mvalues\u001b[0m\u001b[0;34m[\u001b[0m\u001b[0;36m0\u001b[0m\u001b[0;34m]\u001b[0m\u001b[0;34m[\u001b[0m\u001b[0;36m0\u001b[0m\u001b[0;34m]\u001b[0m\u001b[0;34m\u001b[0m\u001b[0;34m\u001b[0m\u001b[0m\n\u001b[1;32m      2\u001b[0m \u001b[0;34m\u001b[0m\u001b[0m\n\u001b[0;32m----> 3\u001b[0;31m \u001b[0mcompareTwoTeams\u001b[0m\u001b[0;34m(\u001b[0m\u001b[0mkansas_id\u001b[0m\u001b[0;34m,\u001b[0m \u001b[0mkentucky_id\u001b[0m\u001b[0;34m,\u001b[0m \u001b[0;36m2017\u001b[0m\u001b[0;34m)\u001b[0m\u001b[0;34m\u001b[0m\u001b[0;34m\u001b[0m\u001b[0m\n\u001b[0m",
      "\u001b[0;32m<ipython-input-101-5476d9a33891>\u001b[0m in \u001b[0;36mcompareTwoTeams\u001b[0;34m(team_name_1, team_name_2, year)\u001b[0m\n\u001b[1;32m      1\u001b[0m \u001b[0;32mdef\u001b[0m \u001b[0mcompareTwoTeams\u001b[0m\u001b[0;34m(\u001b[0m\u001b[0mteam_name_1\u001b[0m\u001b[0;34m,\u001b[0m \u001b[0mteam_name_2\u001b[0m\u001b[0;34m,\u001b[0m \u001b[0myear\u001b[0m\u001b[0;34m)\u001b[0m\u001b[0;34m:\u001b[0m\u001b[0;34m\u001b[0m\u001b[0;34m\u001b[0m\u001b[0m\n\u001b[0;32m----> 2\u001b[0;31m     \u001b[0mteam_1\u001b[0m \u001b[0;34m=\u001b[0m \u001b[0mgetSeasonData\u001b[0m\u001b[0;34m(\u001b[0m\u001b[0mteam_name_1\u001b[0m\u001b[0;34m,\u001b[0m \u001b[0myear\u001b[0m\u001b[0;34m)\u001b[0m\u001b[0;34m\u001b[0m\u001b[0;34m\u001b[0m\u001b[0m\n\u001b[0m\u001b[1;32m      3\u001b[0m     \u001b[0mteam_2\u001b[0m \u001b[0;34m=\u001b[0m \u001b[0mgetSeasonData\u001b[0m\u001b[0;34m(\u001b[0m\u001b[0mteam_name_2\u001b[0m\u001b[0;34m,\u001b[0m \u001b[0myear\u001b[0m\u001b[0;34m)\u001b[0m\u001b[0;34m\u001b[0m\u001b[0;34m\u001b[0m\u001b[0m\n\u001b[1;32m      4\u001b[0m     \u001b[0mdiff\u001b[0m \u001b[0;34m=\u001b[0m \u001b[0;34m[\u001b[0m\u001b[0ma\u001b[0m \u001b[0;34m-\u001b[0m \u001b[0mb\u001b[0m \u001b[0;32mfor\u001b[0m \u001b[0ma\u001b[0m\u001b[0;34m,\u001b[0m \u001b[0mb\u001b[0m \u001b[0;32min\u001b[0m \u001b[0mzip\u001b[0m\u001b[0;34m(\u001b[0m\u001b[0mteam_1\u001b[0m\u001b[0;34m,\u001b[0m \u001b[0mteam_2\u001b[0m\u001b[0;34m)\u001b[0m\u001b[0;34m]\u001b[0m\u001b[0;34m\u001b[0m\u001b[0;34m\u001b[0m\u001b[0m\n\u001b[1;32m      5\u001b[0m     \u001b[0;32mreturn\u001b[0m \u001b[0mdiff\u001b[0m\u001b[0;34m\u001b[0m\u001b[0;34m\u001b[0m\u001b[0m\n",
      "\u001b[0;32m<ipython-input-99-cbcf1ad30223>\u001b[0m in \u001b[0;36mgetSeasonData\u001b[0;34m(team_name, year)\u001b[0m\n\u001b[1;32m      1\u001b[0m \u001b[0;32mdef\u001b[0m \u001b[0mgetSeasonData\u001b[0m\u001b[0;34m(\u001b[0m\u001b[0mteam_name\u001b[0m\u001b[0;34m,\u001b[0m \u001b[0myear\u001b[0m\u001b[0;34m)\u001b[0m\u001b[0;34m:\u001b[0m\u001b[0;34m\u001b[0m\u001b[0;34m\u001b[0m\u001b[0m\n\u001b[1;32m      2\u001b[0m     \u001b[0myear_data\u001b[0m \u001b[0;34m=\u001b[0m \u001b[0mNCAA_Seasons_pd\u001b[0m\u001b[0;34m[\u001b[0m\u001b[0mNCAA_Seasons_pd\u001b[0m\u001b[0;34m[\u001b[0m\u001b[0;34m'season'\u001b[0m\u001b[0;34m]\u001b[0m \u001b[0;34m==\u001b[0m \u001b[0myear\u001b[0m\u001b[0;34m]\u001b[0m\u001b[0;34m\u001b[0m\u001b[0;34m\u001b[0m\u001b[0m\n\u001b[0;32m----> 3\u001b[0;31m     \u001b[0mtotal_wins\u001b[0m \u001b[0;34m=\u001b[0m \u001b[0mNCAA_Seasons_pd\u001b[0m\u001b[0;34m[\u001b[0m\u001b[0mNCAA_Seasons_pd\u001b[0m\u001b[0;34m.\u001b[0m\u001b[0mtotal_wins\u001b[0m \u001b[0;34m==\u001b[0m \u001b[0mteam_name\u001b[0m\u001b[0;34m]\u001b[0m\u001b[0;34m\u001b[0m\u001b[0;34m\u001b[0m\u001b[0m\n\u001b[0m\u001b[1;32m      4\u001b[0m     \u001b[0madj_win_perc\u001b[0m \u001b[0;34m=\u001b[0m \u001b[0mNCAA_Seasons_pd\u001b[0m\u001b[0;34m[\u001b[0m\u001b[0mNCAA_Seasons_pd\u001b[0m\u001b[0;34m.\u001b[0m\u001b[0madj_win_perc\u001b[0m \u001b[0;34m==\u001b[0m \u001b[0mteam_name\u001b[0m\u001b[0;34m]\u001b[0m\u001b[0;34m\u001b[0m\u001b[0;34m\u001b[0m\u001b[0m\n\u001b[1;32m      5\u001b[0m     \u001b[0mstr_of_sched\u001b[0m \u001b[0;34m=\u001b[0m \u001b[0mNCAA_Seasons_pd\u001b[0m\u001b[0;34m[\u001b[0m\u001b[0mNCAA_Seasons_pd\u001b[0m\u001b[0;34m.\u001b[0m\u001b[0mstr_of_sched\u001b[0m \u001b[0;34m==\u001b[0m \u001b[0mteam_name\u001b[0m\u001b[0;34m]\u001b[0m\u001b[0;34m\u001b[0m\u001b[0;34m\u001b[0m\u001b[0m\n",
      "\u001b[0;32m/anaconda3/envs/PythonData/lib/python3.6/site-packages/pandas/core/ops.py\u001b[0m in \u001b[0;36mwrapper\u001b[0;34m(self, other, axis)\u001b[0m\n\u001b[1;32m   1251\u001b[0m \u001b[0;34m\u001b[0m\u001b[0m\n\u001b[1;32m   1252\u001b[0m             \u001b[0;32mwith\u001b[0m \u001b[0mnp\u001b[0m\u001b[0;34m.\u001b[0m\u001b[0merrstate\u001b[0m\u001b[0;34m(\u001b[0m\u001b[0mall\u001b[0m\u001b[0;34m=\u001b[0m\u001b[0;34m'ignore'\u001b[0m\u001b[0;34m)\u001b[0m\u001b[0;34m:\u001b[0m\u001b[0;34m\u001b[0m\u001b[0;34m\u001b[0m\u001b[0m\n\u001b[0;32m-> 1253\u001b[0;31m                 \u001b[0mres\u001b[0m \u001b[0;34m=\u001b[0m \u001b[0mna_op\u001b[0m\u001b[0;34m(\u001b[0m\u001b[0mvalues\u001b[0m\u001b[0;34m,\u001b[0m \u001b[0mother\u001b[0m\u001b[0;34m)\u001b[0m\u001b[0;34m\u001b[0m\u001b[0;34m\u001b[0m\u001b[0m\n\u001b[0m\u001b[1;32m   1254\u001b[0m             \u001b[0;32mif\u001b[0m \u001b[0mis_scalar\u001b[0m\u001b[0;34m(\u001b[0m\u001b[0mres\u001b[0m\u001b[0;34m)\u001b[0m\u001b[0;34m:\u001b[0m\u001b[0;34m\u001b[0m\u001b[0;34m\u001b[0m\u001b[0m\n\u001b[1;32m   1255\u001b[0m                 raise TypeError('Could not compare {typ} type with Series'\n",
      "\u001b[0;32m/anaconda3/envs/PythonData/lib/python3.6/site-packages/pandas/core/ops.py\u001b[0m in \u001b[0;36mna_op\u001b[0;34m(x, y)\u001b[0m\n\u001b[1;32m   1164\u001b[0m                     \u001b[0mresult\u001b[0m \u001b[0;34m=\u001b[0m \u001b[0mmethod\u001b[0m\u001b[0;34m(\u001b[0m\u001b[0my\u001b[0m\u001b[0;34m)\u001b[0m\u001b[0;34m\u001b[0m\u001b[0;34m\u001b[0m\u001b[0m\n\u001b[1;32m   1165\u001b[0m                 \u001b[0;32mif\u001b[0m \u001b[0mresult\u001b[0m \u001b[0;32mis\u001b[0m \u001b[0mNotImplemented\u001b[0m\u001b[0;34m:\u001b[0m\u001b[0;34m\u001b[0m\u001b[0;34m\u001b[0m\u001b[0m\n\u001b[0;32m-> 1166\u001b[0;31m                     \u001b[0;32mraise\u001b[0m \u001b[0mTypeError\u001b[0m\u001b[0;34m(\u001b[0m\u001b[0;34m\"invalid type comparison\"\u001b[0m\u001b[0;34m)\u001b[0m\u001b[0;34m\u001b[0m\u001b[0;34m\u001b[0m\u001b[0m\n\u001b[0m\u001b[1;32m   1167\u001b[0m             \u001b[0;32melse\u001b[0m\u001b[0;34m:\u001b[0m\u001b[0;34m\u001b[0m\u001b[0;34m\u001b[0m\u001b[0m\n\u001b[1;32m   1168\u001b[0m                 \u001b[0mresult\u001b[0m \u001b[0;34m=\u001b[0m \u001b[0mop\u001b[0m\u001b[0;34m(\u001b[0m\u001b[0mx\u001b[0m\u001b[0;34m,\u001b[0m \u001b[0my\u001b[0m\u001b[0;34m)\u001b[0m\u001b[0;34m\u001b[0m\u001b[0;34m\u001b[0m\u001b[0m\n",
      "\u001b[0;31mTypeError\u001b[0m: invalid type comparison"
     ]
    }
   ],
   "source": [
    "kasas_id = NCAA_Seasons_pd[NCAA_Seasons_pd['team_name'] == 'Kansas'].values[0][0]\n",
    "\n",
    "compareTwoTeams(kansas_id, kentucky_id, 2017)"
   ]
  },
  {
   "cell_type": "code",
   "execution_count": 105,
   "metadata": {},
   "outputs": [],
   "source": [
    "def createSeasonDict(season):\n",
    "    seasonDictionary = collections.defaultdict(list)\n",
    "    for team in teamList:\n",
    "        team_name = NCAA_Seasons_pd[NCAA_Seasons_pd['team_name'] == team].values[0][0]\n",
    "        team_vector = getSeasonData(team_name, season)\n",
    "        seasonDictionary[team_name] = team_vector\n",
    "    return seasonDictionary"
   ]
  },
  {
   "cell_type": "code",
   "execution_count": 106,
   "metadata": {},
   "outputs": [],
   "source": [
    "def createTrainingSet(seasons):\n",
    "    totalNumGames = 0\n",
    "    for season in seasons:\n",
    "        season = NCAA_Seasons_pd[NCAA_Seasons_pd['season'] == season].values[0][0]\n",
    "    numFeatures = len(getSeasonData(Kansas, 2017))\n",
    "    xTrain = np.zeros(( totalNumGames, numFeatures + 1))\n",
    "    yTrain = np.zeros(( totalNumGames))\n",
    "    indexCounter = 0\n",
    "    \n",
    "    xTrain[indexCounter:numGamesInSeason+indexCounter] = xTrainSeason\n",
    "    yTrain[indexCounter:numGamesInSeason+indexCounter] = yTrainSeason\n",
    "    indexCounter += numGamesInSeason\n",
    "    return xTrain, yTrain"
   ]
  },
  {
   "cell_type": "code",
   "execution_count": null,
   "metadata": {},
   "outputs": [],
   "source": []
  },
  {
   "cell_type": "code",
   "execution_count": null,
   "metadata": {},
   "outputs": [],
   "source": []
  }
 ],
 "metadata": {
  "kernelspec": {
   "display_name": "Python 3",
   "language": "python",
   "name": "python3"
  },
  "language_info": {
   "codemirror_mode": {
    "name": "ipython",
    "version": 3
   },
   "file_extension": ".py",
   "mimetype": "text/x-python",
   "name": "python",
   "nbconvert_exporter": "python",
   "pygments_lexer": "ipython3",
   "version": "3.6.7"
  }
 },
 "nbformat": 4,
 "nbformat_minor": 2
}
